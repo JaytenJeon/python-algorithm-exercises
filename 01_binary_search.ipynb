{
  "nbformat": 4,
  "nbformat_minor": 0,
  "metadata": {
    "colab": {
      "name": "01.binary_search.ipynb",
      "version": "0.3.2",
      "provenance": []
    },
    "kernelspec": {
      "name": "python3",
      "display_name": "Python 3"
    }
  },
  "cells": [
    {
      "metadata": {
        "id": "JV69OkNwUyBa",
        "colab_type": "code",
        "colab": {}
      },
      "cell_type": "code",
      "source": [
        "import time\n",
        "arr = [i for i in range(1, 10001)]"
      ],
      "execution_count": 0,
      "outputs": []
    },
    {
      "metadata": {
        "id": "wBBN1B5UW6p5",
        "colab_type": "code",
        "colab": {}
      },
      "cell_type": "code",
      "source": [
        "def linear_search(arr, target):\n",
        "  start = time.time()\n",
        "  idx = None\n",
        "  \n",
        "  for i, n in enumerate(arr):\n",
        "    if n == target:\n",
        "      idx = i\n",
        "      has_target = True\n",
        "      break\n",
        "  \n",
        "  end = time.time()\n",
        "  return idx, end-start "
      ],
      "execution_count": 0,
      "outputs": []
    },
    {
      "metadata": {
        "id": "lQn2ApMJYcHp",
        "colab_type": "code",
        "colab": {}
      },
      "cell_type": "code",
      "source": [
        "def binary_search(arr, target):\n",
        "  start = time.time()\n",
        "  idx = None\n",
        "  s_idx = 0\n",
        "  e_idx = len(arr)-1\n",
        "  \n",
        "  while s_idx <= e_idx:\n",
        "    m_idx = (s_idx + e_idx)//2\n",
        "\n",
        "    if target > arr[m_idx]:\n",
        "      s_idx = m_idx + 1\n",
        "    elif target < arr[m_idx]:\n",
        "      e_idx = m_idx - 1\n",
        "    else:\n",
        "      idx = m_idx\n",
        "      has_target = True\n",
        "      break\n",
        "      \n",
        "  end = time.time()\n",
        "  return idx, end-start"
      ],
      "execution_count": 0,
      "outputs": []
    },
    {
      "metadata": {
        "id": "ldYVBicEWk8h",
        "colab_type": "code",
        "colab": {
          "base_uri": "https://localhost:8080/",
          "height": 70
        },
        "outputId": "a6ddc467-abfb-498e-86bf-bbc70bd79a65"
      },
      "cell_type": "code",
      "source": [
        "target = 7777\n",
        "idx1, time1 = linear_search(arr, target)\n",
        "idx2, time2 = binary_search(arr, target)\n",
        "print(\"idx1: {}, idx2: {}\".format(idx1, idx2))\n",
        "print(\"time1: {0:0.10f}, time2: {1:0.10f}\".format(time1, time2))\n",
        "print(\"binary search is about {0:0.2f} times faster than linear search\".format(time1/time2))"
      ],
      "execution_count": 4,
      "outputs": [
        {
          "output_type": "stream",
          "text": [
            "idx1: 7776, idx2: 7776\n",
            "time1: 0.0004546642, time2: 0.0000047684\n",
            "binary search is about 95.35 times faster than linear search\n"
          ],
          "name": "stdout"
        }
      ]
    },
    {
      "metadata": {
        "id": "DK4EXokjcqBC",
        "colab_type": "code",
        "colab": {}
      },
      "cell_type": "code",
      "source": [
        ""
      ],
      "execution_count": 0,
      "outputs": []
    }
  ]
}